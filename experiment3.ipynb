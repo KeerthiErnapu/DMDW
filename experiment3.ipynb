{
  "nbformat": 4,
  "nbformat_minor": 0,
  "metadata": {
    "colab": {
      "provenance": [],
      "authorship_tag": "ABX9TyOGIwzQcOYKbd9T5qWiWjgN",
      "include_colab_link": true
    },
    "kernelspec": {
      "name": "python3",
      "display_name": "Python 3"
    },
    "language_info": {
      "name": "python"
    }
  },
  "cells": [
    {
      "cell_type": "markdown",
      "metadata": {
        "id": "view-in-github",
        "colab_type": "text"
      },
      "source": [
        "<a href=\"https://colab.research.google.com/github/KeerthiErnapu/DMDW/blob/main/experiment3.ipynb\" target=\"_parent\"><img src=\"https://colab.research.google.com/assets/colab-badge.svg\" alt=\"Open In Colab\"/></a>"
      ]
    },
    {
      "cell_type": "code",
      "execution_count": 6,
      "metadata": {
        "id": "ZTAJ315Nwn6S"
      },
      "outputs": [],
      "source": [
        "import numpy as np\n",
        "import pandas as pd\n",
        "from sklearn.metrics.pairwise import cosine_similarity,manhattan_distances,euclidean_distances"
      ]
    },
    {
      "cell_type": "code",
      "source": [
        "data=pd.read_csv('/content/IRIS (1).csv')"
      ],
      "metadata": {
        "id": "Ak18FJEBxWPI"
      },
      "execution_count": 7,
      "outputs": []
    },
    {
      "cell_type": "code",
      "source": [
        "x=data.drop('species',axis=1)\n",
        "a=np.array(x['sepal_length']).reshape(1,-1)\n",
        "b=np.array(x['sepal_width']).reshape(1,-1)"
      ],
      "metadata": {
        "id": "FI2UnFJ_xi2F"
      },
      "execution_count": 32,
      "outputs": []
    },
    {
      "cell_type": "code",
      "source": [
        "a.shape"
      ],
      "metadata": {
        "colab": {
          "base_uri": "https://localhost:8080/"
        },
        "id": "qxb78_3RzHoZ",
        "outputId": "0d5c6a1d-ea69-4719-b86f-51ed54dad0d4"
      },
      "execution_count": 33,
      "outputs": [
        {
          "output_type": "execute_result",
          "data": {
            "text/plain": [
              "(1, 150)"
            ]
          },
          "metadata": {},
          "execution_count": 33
        }
      ]
    },
    {
      "cell_type": "code",
      "source": [
        "cos=cosine_similarity(a,b)\n",
        "print(cos)"
      ],
      "metadata": {
        "colab": {
          "base_uri": "https://localhost:8080/"
        },
        "id": "LlrUBhNRxoZZ",
        "outputId": "b5396cda-f05a-481e-d3dc-2cc38c407b9c"
      },
      "execution_count": 34,
      "outputs": [
        {
          "output_type": "stream",
          "name": "stdout",
          "text": [
            "[[0.97826314]]\n"
          ]
        }
      ]
    },
    {
      "cell_type": "code",
      "source": [
        "eclud=euclidean_distances(a,b)\n",
        "print(eclud)"
      ],
      "metadata": {
        "colab": {
          "base_uri": "https://localhost:8080/"
        },
        "id": "cVDvn6_Ay070",
        "outputId": "73b36f84-624f-4d91-8491-f56561845add"
      },
      "execution_count": 35,
      "outputs": [
        {
          "output_type": "stream",
          "name": "stdout",
          "text": [
            "[[36.17927584]]\n"
          ]
        }
      ]
    },
    {
      "cell_type": "code",
      "source": [
        "manhattan=manhattan_distances(a,b)\n",
        "print(manhattan)"
      ],
      "metadata": {
        "colab": {
          "base_uri": "https://localhost:8080/"
        },
        "id": "c9117k6Hy9WR",
        "outputId": "43019744-cbf9-47cb-d9cd-ce16b4a861f5"
      },
      "execution_count": 36,
      "outputs": [
        {
          "output_type": "stream",
          "name": "stdout",
          "text": [
            "[[418.4]]\n"
          ]
        }
      ]
    },
    {
      "cell_type": "code",
      "source": [
        "from scipy.stats import pearsonr\n",
        "c=pearsonr(x['sepal_length'],x['sepal_width'])\n",
        "print(c)"
      ],
      "metadata": {
        "colab": {
          "base_uri": "https://localhost:8080/"
        },
        "id": "a3TVkuPs2Si0",
        "outputId": "611a7d11-9421-4ace-953c-1cb2d16faf6c"
      },
      "execution_count": 40,
      "outputs": [
        {
          "output_type": "stream",
          "name": "stdout",
          "text": [
            "PearsonRResult(statistic=-0.10936924995064937, pvalue=0.18276521527136963)\n"
          ]
        }
      ]
    },
    {
      "cell_type": "code",
      "source": [],
      "metadata": {
        "id": "BsSuw_cW21zW"
      },
      "execution_count": null,
      "outputs": []
    }
  ]
}